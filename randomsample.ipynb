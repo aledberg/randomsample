{
  "nbformat": 4,
  "nbformat_minor": 0,
  "metadata": {
    "colab": {
      "name": "randomsample.ipynb",
      "provenance": [],
      "collapsed_sections": [],
      "authorship_tag": "ABX9TyNM0vqndSqDGOPJeS2ofBWJ",
      "include_colab_link": true
    },
    "kernelspec": {
      "name": "python3",
      "display_name": "Python 3"
    }
  },
  "cells": [
    {
      "cell_type": "markdown",
      "metadata": {
        "id": "view-in-github",
        "colab_type": "text"
      },
      "source": [
        "<a href=\"https://colab.research.google.com/github/aledberg/randomsample/blob/main/randomsample.ipynb\" target=\"_parent\"><img src=\"https://colab.research.google.com/assets/colab-badge.svg\" alt=\"Open In Colab\"/></a>"
      ]
    },
    {
      "cell_type": "markdown",
      "metadata": {
        "id": "5mbC8EjLAE6R"
      },
      "source": [
        "# **In this notebook we will do a simple exercise about random sampling. You will make a random sample from a list of students and calcluate the average age of the persons in the sample.**"
      ]
    },
    {
      "cell_type": "markdown",
      "metadata": {
        "id": "LWYdWgSoJDXd"
      },
      "source": [
        "First we need to set up things. Please execute the code below (by pressing the arrow, or marking the block and pressing run)."
      ]
    },
    {
      "cell_type": "code",
      "metadata": {
        "id": "wHFhYyP_IowB"
      },
      "source": [
        "import numpy as np\n",
        "namelist = [\"Taylor\",\"Gil\",\"Denisse\",\"Thresa\",\"Grisel\",\"Vonnie\",\"Tajuana\",\"Clay\",\"Larissa\",\"Dreama\",\"Bradly\",\"Phillip\",\"Mariella\",\"Felisha\",\"Paulene\",\"Phylicia\",\"Florine\",\"Ramonita\",\"Sasha\",\"Kathy\",\"Arlene\",\"Brittany\",\"Von\",\"Bambi\",\"Gaynelle\",\"Ute\",\"Emmaline\",\"Chantay\",\"Vi\",\"Britta\",\"Luetta\",\"Tiesha\",\"Lane\",\"Domingo\",\"Lonna\",\"Leopoldo\",\"Thalia\",\"Ethel\",\"Karey\",\"Camie\",\"Janey\",\"Charmain\",\"Jeni\",\"Earlene\",\"Kimberley\",\"Noma\",\"Adolfo\",\"Emerson\",\"Eun\",\"Willene\"]\n",
        "agelist=[31., 25., 29., 28., 23., 28., 26., 26., 26., 26., 27., 26., 25.,28., 27., 30., 28., 28., 23., 27., 23., 25., 28., 27., 24., 30.,28., 24., 28., 25., 25., 29., 31., 25., 34., 28., 29., 24., 23.,25., 24., 29., 25., 28., 27., 29., 29., 24., 26., 26.]"
      ],
      "execution_count": null,
      "outputs": []
    },
    {
      "cell_type": "markdown",
      "metadata": {
        "id": "LuQLOOVCJS4Q"
      },
      "source": [
        "This should have loded the names of the 50 participants in and their ages. Execute the code below to see the \"population data\" we will use for this exercise."
      ]
    },
    {
      "cell_type": "code",
      "metadata": {
        "id": "1iLPb8S4Hofz"
      },
      "source": [
        "for i in range(len(namelist)): print(i+1,namelist[i], agelist[i])"
      ],
      "execution_count": null,
      "outputs": []
    },
    {
      "cell_type": "markdown",
      "metadata": {
        "id": "8yRjKms3KZxk"
      },
      "source": [
        "Next we will make a random selection of 10 persons from this list and compute the average of their ages. A random selection from a list can be obtained by using a random number generator. Python has several ways of doing this, we will user the choice function from numpy.random. Note that the lists are ordered, so it is enough if we can sample integers at random from 1 to 50. Execute the code below to do this. If you repeat this step you will get a different sample each time. Try!"
      ]
    },
    {
      "cell_type": "code",
      "metadata": {
        "id": "76BBEotAMcTh",
        "outputId": "f73e96df-d502-4fe7-b4c9-e142e60b4642",
        "colab": {
          "base_uri": "https://localhost:8080/",
          "height": 35
        }
      },
      "source": [
        "sample_size = 10\n",
        "selection=np.random.choice(range(50),sample_size)\n",
        "print(selection+1)"
      ],
      "execution_count": null,
      "outputs": [
        {
          "output_type": "stream",
          "text": [
            "[ 7 19 20  4 37 39 15  3 47 46]\n"
          ],
          "name": "stdout"
        }
      ]
    },
    {
      "cell_type": "markdown",
      "metadata": {
        "id": "aJO1biTRM7VY"
      },
      "source": [
        "Next step is to look at our sample. "
      ]
    },
    {
      "cell_type": "code",
      "metadata": {
        "id": "JxPpQG2ZNC7d"
      },
      "source": [
        "for i in selection: print(i+1, namelist[i], agelist[i])"
      ],
      "execution_count": null,
      "outputs": []
    },
    {
      "cell_type": "markdown",
      "metadata": {
        "id": "4lwB0cLKNmko"
      },
      "source": [
        "And finally, compute the average age of the sample."
      ]
    },
    {
      "cell_type": "code",
      "metadata": {
        "id": "n18-iy5uN1di",
        "outputId": "60fd3bba-7af7-4915-8790-11d0302892c7",
        "colab": {
          "base_uri": "https://localhost:8080/",
          "height": 35
        }
      },
      "source": [
        "averageage=np.mean([agelist[i] for i in selection])\n",
        "print(\"the average age of the sample is:\", averageage)"
      ],
      "execution_count": null,
      "outputs": [
        {
          "output_type": "stream",
          "text": [
            "the average age of the sample is: 27.0\n"
          ],
          "name": "stdout"
        }
      ]
    },
    {
      "cell_type": "markdown",
      "metadata": {
        "id": "WNVTSxI0P0V-"
      },
      "source": [
        "If you make another selection, you will typically get a different average. Please try! You can also try changing the sample size (by changing the sample_size parameters above) to see how that influence the average age."
      ]
    }
  ]
}